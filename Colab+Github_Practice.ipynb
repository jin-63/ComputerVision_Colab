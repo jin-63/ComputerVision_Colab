{
  "nbformat": 4,
  "nbformat_minor": 0,
  "metadata": {
    "colab": {
      "provenance": [],
      "authorship_tag": "ABX9TyNOA3WMrqup920wNeMjmUKa",
      "include_colab_link": true
    },
    "kernelspec": {
      "name": "python3",
      "display_name": "Python 3"
    },
    "language_info": {
      "name": "python"
    }
  },
  "cells": [
    {
      "cell_type": "markdown",
      "metadata": {
        "id": "view-in-github",
        "colab_type": "text"
      },
      "source": [
        "<a href=\"https://colab.research.google.com/github/jin-63/ComputerVision_Colab/blob/main/Colab%2BGithub_Practice.ipynb\" target=\"_parent\"><img src=\"https://colab.research.google.com/assets/colab-badge.svg\" alt=\"Open In Colab\"/></a>"
      ]
    },
    {
      "cell_type": "markdown",
      "source": [
        "#Colab과 Gitbub 연동하기\n",
        "\n",
        "Let's learn how to use Colab and Github togeter"
      ],
      "metadata": {
        "id": "mzTRM3AIce1K"
      }
    },
    {
      "cell_type": "code",
      "execution_count": null,
      "metadata": {
        "colab": {
          "base_uri": "https://localhost:8080/"
        },
        "id": "VAev-r_rb9Pf",
        "outputId": "9edf285b-dcea-48e6-cff3-f2031ef4e83e"
      },
      "outputs": [
        {
          "output_type": "stream",
          "name": "stdout",
          "text": [
            "Hello Colab and Github!\n"
          ]
        }
      ],
      "source": [
        "print(\"Hello Colab and Github!\")"
      ]
    }
  ]
}