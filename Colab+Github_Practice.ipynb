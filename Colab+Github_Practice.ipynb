{
  "nbformat": 4,
  "nbformat_minor": 0,
  "metadata": {
    "colab": {
      "provenance": [],
      "authorship_tag": "ABX9TyMItIr3mGESV0k3avOLa7c1",
      "include_colab_link": true
    },
    "kernelspec": {
      "name": "python3",
      "display_name": "Python 3"
    },
    "language_info": {
      "name": "python"
    }
  },
  "cells": [
    {
      "cell_type": "markdown",
      "metadata": {
        "id": "view-in-github",
        "colab_type": "text"
      },
      "source": [
        "<a href=\"https://colab.research.google.com/github/jin-63/ComputerVision_Colab/blob/main/Colab%2BGithub_Practice.ipynb\" target=\"_parent\"><img src=\"https://colab.research.google.com/assets/colab-badge.svg\" alt=\"Open In Colab\"/></a>"
      ]
    },
    {
      "cell_type": "markdown",
      "source": [
        "#Colab과 Gitbub 연동하기\n",
        "\n",
        "Let's learn how to use Colab and Github togeter\n",
        "\n",
        "수정사항을 업데이트 해보겠습니다."
      ],
      "metadata": {
        "id": "mzTRM3AIce1K"
      }
    },
    {
      "cell_type": "code",
      "execution_count": 3,
      "metadata": {
        "colab": {
          "base_uri": "https://localhost:8080/"
        },
        "id": "VAev-r_rb9Pf",
        "outputId": "40d1e7e3-1fe2-441d-8316-51669cedae71"
      },
      "outputs": [
        {
          "output_type": "stream",
          "name": "stdout",
          "text": [
            "Bye Colab and Github!\n"
          ]
        }
      ],
      "source": [
        "print(\"Bye Colab and Github!\")"
      ]
    }
  ]
}